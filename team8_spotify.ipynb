{
 "cells": [
  {
   "cell_type": "markdown",
   "metadata": {
    "tags": [
     "parameters"
    ]
   },
   "source": [
    "<font color='#00FF00'>\n",
    "<font size = '6'>\n",
    "Spotify top charts analysis</font>\n",
    " "
   ]
  },
  {
   "cell_type": "markdown",
   "metadata": {},
   "source": [
    "<font color='FF FF E0'>\n",
    "<font size = '4'>\n",
    "Goal:\n",
    "to figure out whether it is possible for new singers to enter the Spotify top charts or they should stop trying and find a normal job.\n",
    "\n",
    "All info was taken from this data frames:\n",
    "https://www.kaggle.com/datasets/mkmotsumi/rawdataset ,\n",
    "spotify_top_charts_22\n",
    "</font>"
   ]
  },
  {
   "cell_type": "markdown",
   "metadata": {},
   "source": [
    "<font color='FF FF E0'>\n",
    "<font size = '4'>\n",
    "Team 8: Olena Hnyp, Nastia Dynia, Sophia Dyshleva, Ustym Hentosh</font>"
   ]
  },
  {
   "cell_type": "markdown",
   "metadata": {},
   "source": [
    "Importing needed modules"
   ]
  },
  {
   "cell_type": "markdown",
   "metadata": {},
   "source": []
  },
  {
   "cell_type": "code",
   "execution_count": 2,
   "metadata": {},
   "outputs": [],
   "source": [
    "# data manipulation\n",
    "import pandas as pd\n",
    "import numpy as np\n",
    "\n",
    "# data viz\n",
    "import matplotlib.pyplot as plt\n",
    "import seaborn as sns"
   ]
  },
  {
   "cell_type": "markdown",
   "metadata": {},
   "source": [
    "Reading main csv"
   ]
  },
  {
   "cell_type": "code",
   "execution_count": null,
   "metadata": {},
   "outputs": [],
   "source": [
    "def read_data(path_to_file):\n",
    "    \"\"\"\n",
    "    Reads csv file\n",
    "    \"\"\"\n",
    "    df = pd.read_csv(path_to_file)\n",
    "    # print(df)\n",
    "    return df\n",
    "\n",
    "\n",
    "df = read_data('charts.csv')\n"
   ]
  },
  {
   "cell_type": "markdown",
   "metadata": {},
   "source": [
    "Cutting main dataset depending on the year"
   ]
  },
  {
   "cell_type": "code",
   "execution_count": null,
   "metadata": {},
   "outputs": [],
   "source": [
    "df_2017 = df[df.date.str.startswith(\"2017\")].drop(\n",
    "    ['rank', 'date', 'url', 'region', 'chart', 'trend', 'streams'], axis=1)\n",
    "df_2018 = df[df.date.str.startswith(\"2018\")].drop(\n",
    "    ['rank', 'date', 'url', 'region', 'chart', 'trend', 'streams'], axis=1)\n",
    "df_2019 = df[df.date.str.startswith(\"2019\")].drop(\n",
    "    ['rank', 'date', 'url', 'region', 'chart', 'trend', 'streams'], axis=1)\n",
    "df_2020 = df[df.date.str.startswith(\"2020\")].drop(\n",
    "    ['rank', 'date', 'url', 'region', 'chart', 'trend', 'streams'], axis=1)\n",
    "df_2021 = df[df.date.str.startswith(\"2021\")].drop(\n",
    "    ['rank', 'date', 'url', 'region', 'chart', 'trend', 'streams'], axis=1)\n"
   ]
  },
  {
   "cell_type": "markdown",
   "metadata": {},
   "source": [
    "Finding out how many artists were in top charts only once"
   ]
  },
  {
   "cell_type": "code",
   "execution_count": null,
   "metadata": {},
   "outputs": [],
   "source": [
    "appearances = {}\n",
    "appearances[2017] = [df_2017.artist.value_counts().reset_index().query('artist == 1').shape[0],\n",
    "                     df_2017.artist.value_counts().shape[0]]\n",
    "appearances[2018] = [df_2018.artist.value_counts().reset_index().query('artist == 1').shape[0],\n",
    "                     df_2018.artist.value_counts().shape[0]]\n",
    "appearances[2019] = [df_2019.artist.value_counts().reset_index().query('artist == 1').shape[0],\n",
    "                     df_2019.artist.value_counts().shape[0]]\n",
    "appearances[2020] = [df_2020.artist.value_counts().reset_index().query('artist == 1').shape[0],\n",
    "                     df_2020.artist.value_counts().shape[0]]\n",
    "appearances[2021] = [df_2021.artist.value_counts().reset_index().query('artist == 1').shape[0],\n",
    "                     df_2021.artist.value_counts().shape[0]]\n",
    "appearances\n"
   ]
  },
  {
   "cell_type": "markdown",
   "metadata": {},
   "source": [
    "Creating top 22 for each year"
   ]
  },
  {
   "cell_type": "code",
   "execution_count": null,
   "metadata": {},
   "outputs": [],
   "source": [
    "def create_top_22(df, years: list):\n",
    "    for year in years:\n",
    "        df_raw = df[df.date.str.startswith(str(year))]\n",
    "        df_raw = df_raw.drop(['rank', 'date', 'url', 'region', 'chart', 'trend', 'streams'], axis = 1)\n",
    "        top_artists = df_raw.artist.value_counts().head(22).reset_index()\n",
    "        top_artists = top_artists.rename(columns = {'index' : 'Artist', 'artist': 'Artist_counts'})\n",
    "        top_songs = df_raw.title.value_counts().head(22).reset_index()\n",
    "        top_songs = top_songs.rename(columns = {'index' : 'Title', 'title': 'Tytle_counts'})\n",
    "        result = pd.concat([top_artists, top_songs], axis = 1).reset_index()\n",
    "        del result['index']\n",
    "        result.index += 1\n",
    "        result.to_csv(f'top_chart_{year}.csv')\n",
    "    return None\n",
    "create_top_22(df, [2017 ,2018, 2019, 2020, 2021])"
   ]
  },
  {
   "cell_type": "markdown",
   "metadata": {},
   "source": [
    "Finding the most popular song of each singer in the top chart"
   ]
  },
  {
   "cell_type": "code",
   "execution_count": null,
   "metadata": {},
   "outputs": [],
   "source": [
    "def create_top_22_corresponding_songs(df, years: list):\n",
    "    for year in years:\n",
    "        df_raw = df[df.date.str.startswith(str(year))]\n",
    "        df_raw = df_raw.drop(\n",
    "            ['rank', 'date', 'url', 'region', 'chart', 'trend', 'streams'], axis=1)\n",
    "        top_artists = df_raw.artist.value_counts().head(22).reset_index()\n",
    "        top_artists = top_artists.rename(\n",
    "            columns={'index': 'Artist', 'artist': 'Artist_counts'})\n",
    "        lst = []\n",
    "        for i in list(top_artists.Artist.values):\n",
    "            lst.append(df_raw[df_raw.artist.str.startswith(\n",
    "                i, na=False)].title.value_counts().index[0])\n",
    "        top_artists['Artist_song'] = lst\n",
    "        lst1 = []\n",
    "        for j in list(top_artists.Artist_song.values):\n",
    "            lst1.append(df_raw[df_raw.title.str.startswith(\n",
    "                j, na=False)].value_counts().max())\n",
    "        top_artists['Artist_song_counts'] = lst1\n",
    "\n",
    "        top_artists.index += 1\n",
    "        top_artists.to_csv(\n",
    "            f'top_chart_corresponding_songs_with_count_{year}.csv')\n",
    "    return None\n",
    "\n",
    "\n",
    "create_top_22_corresponding_songs(df, [2017, 2018, 2019, 2020, 2021])\n"
   ]
  },
  {
   "cell_type": "markdown",
   "metadata": {},
   "source": [
    "<font color='>#00FF00'>\n",
    "<font size = '6'>\n",
    "Analysis of actual top charts in 2022</font>"
   ]
  },
  {
   "cell_type": "markdown",
   "metadata": {},
   "source": [
    "<font color='FF FF E0'>\n",
    "<font size = '6'>\n",
    "2022</font>"
   ]
  },
  {
   "cell_type": "markdown",
   "metadata": {},
   "source": [
    "Reading file with data from 2022. Creating top 22 singers in 2022"
   ]
  },
  {
   "cell_type": "code",
   "execution_count": 16,
   "metadata": {},
   "outputs": [
    {
     "data": {
      "text/html": [
       "<div>\n",
       "<style scoped>\n",
       "    .dataframe tbody tr th:only-of-type {\n",
       "        vertical-align: middle;\n",
       "    }\n",
       "\n",
       "    .dataframe tbody tr th {\n",
       "        vertical-align: top;\n",
       "    }\n",
       "\n",
       "    .dataframe thead th {\n",
       "        text-align: right;\n",
       "    }\n",
       "</style>\n",
       "<table border=\"1\" class=\"dataframe\">\n",
       "  <thead>\n",
       "    <tr style=\"text-align: right;\">\n",
       "      <th></th>\n",
       "      <th>artist_names</th>\n",
       "      <th>track_name</th>\n",
       "    </tr>\n",
       "  </thead>\n",
       "  <tbody>\n",
       "    <tr>\n",
       "      <th>0</th>\n",
       "      <td>Glass Animals</td>\n",
       "      <td>Heat Waves</td>\n",
       "    </tr>\n",
       "    <tr>\n",
       "      <th>1</th>\n",
       "      <td>The Kid LAROI, Justin Bieber</td>\n",
       "      <td>STAY (with Justin Bieber)</td>\n",
       "    </tr>\n",
       "    <tr>\n",
       "      <th>2</th>\n",
       "      <td>Anitta</td>\n",
       "      <td>Envolver</td>\n",
       "    </tr>\n",
       "    <tr>\n",
       "      <th>3</th>\n",
       "      <td>Imagine Dragons, JID, Arcane, League of Legends</td>\n",
       "      <td>Enemy (with JID) - from the series Arcane Leag...</td>\n",
       "    </tr>\n",
       "    <tr>\n",
       "      <th>4</th>\n",
       "      <td>GAYLE</td>\n",
       "      <td>abcdefu</td>\n",
       "    </tr>\n",
       "    <tr>\n",
       "      <th>5</th>\n",
       "      <td>Elton John, Dua Lipa, PNAU</td>\n",
       "      <td>Cold Heart - PNAU Remix</td>\n",
       "    </tr>\n",
       "    <tr>\n",
       "      <th>6</th>\n",
       "      <td>Becky G, KAROL G</td>\n",
       "      <td>MAMIII</td>\n",
       "    </tr>\n",
       "    <tr>\n",
       "      <th>7</th>\n",
       "      <td>Lil Nas X, Jack Harlow</td>\n",
       "      <td>INDUSTRY BABY (feat. Jack Harlow)</td>\n",
       "    </tr>\n",
       "    <tr>\n",
       "      <th>8</th>\n",
       "      <td>Rauw Alejandro, Chencho Corleone</td>\n",
       "      <td>Desesperados</td>\n",
       "    </tr>\n",
       "    <tr>\n",
       "      <th>9</th>\n",
       "      <td>Ed Sheeran</td>\n",
       "      <td>Shivers</td>\n",
       "    </tr>\n",
       "    <tr>\n",
       "      <th>10</th>\n",
       "      <td>Doja Cat</td>\n",
       "      <td>Woman</td>\n",
       "    </tr>\n",
       "    <tr>\n",
       "      <th>11</th>\n",
       "      <td>Adele</td>\n",
       "      <td>Easy On Me</td>\n",
       "    </tr>\n",
       "    <tr>\n",
       "      <th>12</th>\n",
       "      <td>Justin Bieber</td>\n",
       "      <td>Ghost</td>\n",
       "    </tr>\n",
       "    <tr>\n",
       "      <th>13</th>\n",
       "      <td>Camila Cabello, Ed Sheeran</td>\n",
       "      <td>Bam Bam (feat. Ed Sheeran)</td>\n",
       "    </tr>\n",
       "    <tr>\n",
       "      <th>14</th>\n",
       "      <td>Elley Duhé</td>\n",
       "      <td>MIDDLE OF THE NIGHT</td>\n",
       "    </tr>\n",
       "    <tr>\n",
       "      <th>15</th>\n",
       "      <td>Cris Mj</td>\n",
       "      <td>Una Noche en Medellín</td>\n",
       "    </tr>\n",
       "    <tr>\n",
       "      <th>16</th>\n",
       "      <td>Lil Nas X</td>\n",
       "      <td>THATS WHAT I WANT</td>\n",
       "    </tr>\n",
       "    <tr>\n",
       "      <th>17</th>\n",
       "      <td>Lost Frequencies, Calum Scott</td>\n",
       "      <td>Where Are You Now</td>\n",
       "    </tr>\n",
       "    <tr>\n",
       "      <th>18</th>\n",
       "      <td>Dove Cameron</td>\n",
       "      <td>Boyfriend</td>\n",
       "    </tr>\n",
       "    <tr>\n",
       "      <th>19</th>\n",
       "      <td>Ed Sheeran</td>\n",
       "      <td>Bad Habits</td>\n",
       "    </tr>\n",
       "    <tr>\n",
       "      <th>20</th>\n",
       "      <td>Jaymes Young</td>\n",
       "      <td>Infinity</td>\n",
       "    </tr>\n",
       "    <tr>\n",
       "      <th>21</th>\n",
       "      <td>Farruko</td>\n",
       "      <td>Pepas</td>\n",
       "    </tr>\n",
       "  </tbody>\n",
       "</table>\n",
       "</div>"
      ],
      "text/plain": [
       "                                       artist_names  \\\n",
       "0                                     Glass Animals   \n",
       "1                      The Kid LAROI, Justin Bieber   \n",
       "2                                            Anitta   \n",
       "3   Imagine Dragons, JID, Arcane, League of Legends   \n",
       "4                                             GAYLE   \n",
       "5                        Elton John, Dua Lipa, PNAU   \n",
       "6                                  Becky G, KAROL G   \n",
       "7                            Lil Nas X, Jack Harlow   \n",
       "8                  Rauw Alejandro, Chencho Corleone   \n",
       "9                                        Ed Sheeran   \n",
       "10                                         Doja Cat   \n",
       "11                                            Adele   \n",
       "12                                    Justin Bieber   \n",
       "13                       Camila Cabello, Ed Sheeran   \n",
       "14                                       Elley Duhé   \n",
       "15                                          Cris Mj   \n",
       "16                                        Lil Nas X   \n",
       "17                    Lost Frequencies, Calum Scott   \n",
       "18                                     Dove Cameron   \n",
       "19                                       Ed Sheeran   \n",
       "20                                     Jaymes Young   \n",
       "21                                          Farruko   \n",
       "\n",
       "                                           track_name  \n",
       "0                                          Heat Waves  \n",
       "1                           STAY (with Justin Bieber)  \n",
       "2                                            Envolver  \n",
       "3   Enemy (with JID) - from the series Arcane Leag...  \n",
       "4                                             abcdefu  \n",
       "5                             Cold Heart - PNAU Remix  \n",
       "6                                              MAMIII  \n",
       "7                   INDUSTRY BABY (feat. Jack Harlow)  \n",
       "8                                        Desesperados  \n",
       "9                                             Shivers  \n",
       "10                                              Woman  \n",
       "11                                         Easy On Me  \n",
       "12                                              Ghost  \n",
       "13                         Bam Bam (feat. Ed Sheeran)  \n",
       "14                                MIDDLE OF THE NIGHT  \n",
       "15                              Una Noche en Medellín  \n",
       "16                                  THATS WHAT I WANT  \n",
       "17                                  Where Are You Now  \n",
       "18                                          Boyfriend  \n",
       "19                                         Bad Habits  \n",
       "20                                           Infinity  \n",
       "21                                              Pepas  "
      ]
     },
     "execution_count": 16,
     "metadata": {},
     "output_type": "execute_result"
    }
   ],
   "source": [
    "\n",
    "df1 = pd.read_csv('spotify_top_charts_22.csv', index_col=False)\n",
    "df1 = df1.loc[:21, [\"artist_names\", \"track_name\"]]\n",
    "df1"
   ]
  },
  {
   "cell_type": "markdown",
   "metadata": {},
   "source": [
    "Set of 22 most popular singers in 2022"
   ]
  },
  {
   "cell_type": "code",
   "execution_count": 17,
   "metadata": {},
   "outputs": [],
   "source": [
    "set1 = set(df1[\"artist_names\"])"
   ]
  },
  {
   "cell_type": "markdown",
   "metadata": {},
   "source": [
    "<font color='>#00FF00'>\n",
    "<font size = '6'>\n",
    "Analysis of five years before 2022</font>"
   ]
  },
  {
   "cell_type": "markdown",
   "metadata": {},
   "source": [
    "<font color='FF FF E0'>\n",
    "Columns: 'Artist' - name of singer/band, 'Artist_counts' - number of getting this singer in top charts, 'Title' - name of the most popular song of this singer</font>"
   ]
  },
  {
   "cell_type": "markdown",
   "metadata": {},
   "source": [
    "<font color='FF FF E0'>\n",
    "Visualized table for each year</font>"
   ]
  },
  {
   "cell_type": "markdown",
   "metadata": {},
   "source": [
    "<font color='FF FF E0'>\n",
    "<font size = '6'>\n",
    "2017</font>"
   ]
  },
  {
   "cell_type": "markdown",
   "metadata": {},
   "source": [
    "Reading file with data from 2017. Creating top 22 singers in 2017"
   ]
  },
  {
   "cell_type": "code",
   "execution_count": 3,
   "metadata": {},
   "outputs": [
    {
     "data": {
      "text/html": [
       "<div>\n",
       "<style scoped>\n",
       "    .dataframe tbody tr th:only-of-type {\n",
       "        vertical-align: middle;\n",
       "    }\n",
       "\n",
       "    .dataframe tbody tr th {\n",
       "        vertical-align: top;\n",
       "    }\n",
       "\n",
       "    .dataframe thead th {\n",
       "        text-align: right;\n",
       "    }\n",
       "</style>\n",
       "<table border=\"1\" class=\"dataframe\">\n",
       "  <thead>\n",
       "    <tr style=\"text-align: right;\">\n",
       "      <th></th>\n",
       "      <th>Artist</th>\n",
       "      <th>Artist_counts</th>\n",
       "      <th>Title</th>\n",
       "    </tr>\n",
       "  </thead>\n",
       "  <tbody>\n",
       "    <tr>\n",
       "      <th>0</th>\n",
       "      <td>Ed Sheeran</td>\n",
       "      <td>138280</td>\n",
       "      <td>Shape of You</td>\n",
       "    </tr>\n",
       "    <tr>\n",
       "      <th>1</th>\n",
       "      <td>Imagine Dragons</td>\n",
       "      <td>42612</td>\n",
       "      <td>Despacito (Featuring Daddy Yankee)</td>\n",
       "    </tr>\n",
       "    <tr>\n",
       "      <th>2</th>\n",
       "      <td>Kendrick Lamar</td>\n",
       "      <td>34252</td>\n",
       "      <td>Believer</td>\n",
       "    </tr>\n",
       "    <tr>\n",
       "      <th>3</th>\n",
       "      <td>Shawn Mendes</td>\n",
       "      <td>33930</td>\n",
       "      <td>Something Just Like This</td>\n",
       "    </tr>\n",
       "    <tr>\n",
       "      <th>4</th>\n",
       "      <td>Charlie Puth</td>\n",
       "      <td>33648</td>\n",
       "      <td>I Don’t Wanna Live Forever (Fifty Shades Darke...</td>\n",
       "    </tr>\n",
       "    <tr>\n",
       "      <th>5</th>\n",
       "      <td>Bruno Mars</td>\n",
       "      <td>33525</td>\n",
       "      <td>Rockabye (feat. Sean Paul &amp; Anne-Marie)</td>\n",
       "    </tr>\n",
       "    <tr>\n",
       "      <th>6</th>\n",
       "      <td>Major Lazer</td>\n",
       "      <td>33323</td>\n",
       "      <td>It Ain't Me (with Selena Gomez)</td>\n",
       "    </tr>\n",
       "    <tr>\n",
       "      <th>7</th>\n",
       "      <td>Clean Bandit</td>\n",
       "      <td>32616</td>\n",
       "      <td>Unforgettable</td>\n",
       "    </tr>\n",
       "    <tr>\n",
       "      <th>8</th>\n",
       "      <td>The Chainsmokers</td>\n",
       "      <td>31677</td>\n",
       "      <td>Scared to Be Lonely</td>\n",
       "    </tr>\n",
       "    <tr>\n",
       "      <th>9</th>\n",
       "      <td>Drake</td>\n",
       "      <td>31167</td>\n",
       "      <td>Closer</td>\n",
       "    </tr>\n",
       "    <tr>\n",
       "      <th>10</th>\n",
       "      <td>Ozuna</td>\n",
       "      <td>28962</td>\n",
       "      <td>Perfect</td>\n",
       "    </tr>\n",
       "    <tr>\n",
       "      <th>11</th>\n",
       "      <td>The Weeknd, Daft Punk</td>\n",
       "      <td>28512</td>\n",
       "      <td>Swalla (feat. Nicki Minaj &amp; Ty Dolla $ign)</td>\n",
       "    </tr>\n",
       "    <tr>\n",
       "      <th>12</th>\n",
       "      <td>Justin Bieber</td>\n",
       "      <td>24868</td>\n",
       "      <td>Attention</td>\n",
       "    </tr>\n",
       "    <tr>\n",
       "      <th>13</th>\n",
       "      <td>Calvin Harris, Funk Wav</td>\n",
       "      <td>24603</td>\n",
       "      <td>I Feel It Coming</td>\n",
       "    </tr>\n",
       "    <tr>\n",
       "      <th>14</th>\n",
       "      <td>Maluma</td>\n",
       "      <td>23961</td>\n",
       "      <td>Despacito - Remix</td>\n",
       "    </tr>\n",
       "    <tr>\n",
       "      <th>15</th>\n",
       "      <td>DJ Khaled</td>\n",
       "      <td>19984</td>\n",
       "      <td>That's What I Like</td>\n",
       "    </tr>\n",
       "    <tr>\n",
       "      <th>16</th>\n",
       "      <td>Nicky Jam</td>\n",
       "      <td>19920</td>\n",
       "      <td>Thunder</td>\n",
       "    </tr>\n",
       "    <tr>\n",
       "      <th>17</th>\n",
       "      <td>Alan Walker</td>\n",
       "      <td>19573</td>\n",
       "      <td>Paris</td>\n",
       "    </tr>\n",
       "    <tr>\n",
       "      <th>18</th>\n",
       "      <td>Jason Derulo</td>\n",
       "      <td>19552</td>\n",
       "      <td>HUMBLE.</td>\n",
       "    </tr>\n",
       "    <tr>\n",
       "      <th>19</th>\n",
       "      <td>Future</td>\n",
       "      <td>19504</td>\n",
       "      <td>Let Me Love You</td>\n",
       "    </tr>\n",
       "    <tr>\n",
       "      <th>20</th>\n",
       "      <td>Sam Smith</td>\n",
       "      <td>19496</td>\n",
       "      <td>There's Nothing Holdin' Me Back</td>\n",
       "    </tr>\n",
       "    <tr>\n",
       "      <th>21</th>\n",
       "      <td>Shakira</td>\n",
       "      <td>19467</td>\n",
       "      <td>Issues</td>\n",
       "    </tr>\n",
       "  </tbody>\n",
       "</table>\n",
       "</div>"
      ],
      "text/plain": [
       "                     Artist  Artist_counts  \\\n",
       "0                Ed Sheeran         138280   \n",
       "1           Imagine Dragons          42612   \n",
       "2            Kendrick Lamar          34252   \n",
       "3              Shawn Mendes          33930   \n",
       "4              Charlie Puth          33648   \n",
       "5                Bruno Mars          33525   \n",
       "6               Major Lazer          33323   \n",
       "7              Clean Bandit          32616   \n",
       "8          The Chainsmokers          31677   \n",
       "9                     Drake          31167   \n",
       "10                    Ozuna          28962   \n",
       "11    The Weeknd, Daft Punk          28512   \n",
       "12            Justin Bieber          24868   \n",
       "13  Calvin Harris, Funk Wav          24603   \n",
       "14                   Maluma          23961   \n",
       "15                DJ Khaled          19984   \n",
       "16                Nicky Jam          19920   \n",
       "17              Alan Walker          19573   \n",
       "18             Jason Derulo          19552   \n",
       "19                   Future          19504   \n",
       "20                Sam Smith          19496   \n",
       "21                  Shakira          19467   \n",
       "\n",
       "                                                Title  \n",
       "0                                        Shape of You  \n",
       "1                  Despacito (Featuring Daddy Yankee)  \n",
       "2                                            Believer  \n",
       "3                            Something Just Like This  \n",
       "4   I Don’t Wanna Live Forever (Fifty Shades Darke...  \n",
       "5             Rockabye (feat. Sean Paul & Anne-Marie)  \n",
       "6                     It Ain't Me (with Selena Gomez)  \n",
       "7                                       Unforgettable  \n",
       "8                                 Scared to Be Lonely  \n",
       "9                                              Closer  \n",
       "10                                            Perfect  \n",
       "11         Swalla (feat. Nicki Minaj & Ty Dolla $ign)  \n",
       "12                                          Attention  \n",
       "13                                   I Feel It Coming  \n",
       "14                                  Despacito - Remix  \n",
       "15                                 That's What I Like  \n",
       "16                                            Thunder  \n",
       "17                                              Paris  \n",
       "18                                            HUMBLE.  \n",
       "19                                    Let Me Love You  \n",
       "20                    There's Nothing Holdin' Me Back  \n",
       "21                                             Issues  "
      ]
     },
     "execution_count": 3,
     "metadata": {},
     "output_type": "execute_result"
    }
   ],
   "source": [
    "df2 = pd.read_csv('top_chart_2017.csv', index_col=False)\n",
    "df2 = df2.loc[:, [\"Artist\", \"Artist_counts\", \"Title\"]]\n",
    "df2"
   ]
  },
  {
   "cell_type": "code",
   "execution_count": 5,
   "metadata": {},
   "outputs": [
    {
     "data": {
      "text/plain": [
       "<AxesSubplot: xlabel='Artist_counts', ylabel='Artist'>"
      ]
     },
     "execution_count": 5,
     "metadata": {},
     "output_type": "execute_result"
    },
    {
     "data": {
      "image/png": "[encoded data removed]",
      "text/plain": [
       "<Figure size 640x480 with 1 Axes>"
      ]
     },
     "metadata": {},
     "output_type": "display_data"
    }
   ],
   "source": [
    "sns.barplot(data=df2, x=\"Artist_counts\", y = \"Artist\")"
   ]
  },
  {
   "cell_type": "markdown",
   "metadata": {},
   "source": [
    "Creating set of 22 most popular singers in 2017"
   ]
  },
  {
   "cell_type": "code",
   "execution_count": 13,
   "metadata": {},
   "outputs": [],
   "source": [
    "set2 = set(df2[\"Artist\"])"
   ]
  },
  {
   "cell_type": "markdown",
   "metadata": {},
   "source": [
    "<font color='FF FF E0'>\n",
    "<font size = '6'>\n",
    "2018</font>"
   ]
  },
  {
   "cell_type": "markdown",
   "metadata": {},
   "source": [
    "Reading file with data from 2018. Creating top 22 singers in 2018"
   ]
  },
  {
   "cell_type": "code",
   "execution_count": 10,
   "metadata": {},
   "outputs": [
    {
     "data": {
      "text/html": [
       "<div>\n",
       "<style scoped>\n",
       "    .dataframe tbody tr th:only-of-type {\n",
       "        vertical-align: middle;\n",
       "    }\n",
       "\n",
       "    .dataframe tbody tr th {\n",
       "        vertical-align: top;\n",
       "    }\n",
       "\n",
       "    .dataframe thead th {\n",
       "        text-align: right;\n",
       "    }\n",
       "</style>\n",
       "<table border=\"1\" class=\"dataframe\">\n",
       "  <thead>\n",
       "    <tr style=\"text-align: right;\">\n",
       "      <th></th>\n",
       "      <th>Artist</th>\n",
       "      <th>Artist_counts</th>\n",
       "      <th>Title</th>\n",
       "    </tr>\n",
       "  </thead>\n",
       "  <tbody>\n",
       "    <tr>\n",
       "      <th>0</th>\n",
       "      <td>XXXTENTACION</td>\n",
       "      <td>79112</td>\n",
       "      <td>God's Plan</td>\n",
       "    </tr>\n",
       "    <tr>\n",
       "      <th>1</th>\n",
       "      <td>Ed Sheeran</td>\n",
       "      <td>75963</td>\n",
       "      <td>IDGAF</td>\n",
       "    </tr>\n",
       "    <tr>\n",
       "      <th>2</th>\n",
       "      <td>Post Malone</td>\n",
       "      <td>69991</td>\n",
       "      <td>Shape of You</td>\n",
       "    </tr>\n",
       "    <tr>\n",
       "      <th>3</th>\n",
       "      <td>Drake</td>\n",
       "      <td>66881</td>\n",
       "      <td>FRIENDS</td>\n",
       "    </tr>\n",
       "    <tr>\n",
       "      <th>4</th>\n",
       "      <td>Imagine Dragons</td>\n",
       "      <td>52748</td>\n",
       "      <td>New Rules</td>\n",
       "    </tr>\n",
       "    <tr>\n",
       "      <th>5</th>\n",
       "      <td>Ariana Grande</td>\n",
       "      <td>41582</td>\n",
       "      <td>Perfect</td>\n",
       "    </tr>\n",
       "    <tr>\n",
       "      <th>6</th>\n",
       "      <td>Dua Lipa</td>\n",
       "      <td>39599</td>\n",
       "      <td>Happier</td>\n",
       "    </tr>\n",
       "    <tr>\n",
       "      <th>7</th>\n",
       "      <td>Eminem</td>\n",
       "      <td>33243</td>\n",
       "      <td>Havana (feat. Young Thug)</td>\n",
       "    </tr>\n",
       "    <tr>\n",
       "      <th>8</th>\n",
       "      <td>Camila Cabello</td>\n",
       "      <td>32789</td>\n",
       "      <td>I Like It</td>\n",
       "    </tr>\n",
       "    <tr>\n",
       "      <th>9</th>\n",
       "      <td>Ozuna</td>\n",
       "      <td>31328</td>\n",
       "      <td>One Kiss (with Dua Lipa)</td>\n",
       "    </tr>\n",
       "    <tr>\n",
       "      <th>10</th>\n",
       "      <td>Khalid</td>\n",
       "      <td>30955</td>\n",
       "      <td>SAD!</td>\n",
       "    </tr>\n",
       "    <tr>\n",
       "      <th>11</th>\n",
       "      <td>Clean Bandit</td>\n",
       "      <td>29127</td>\n",
       "      <td>Girls Like You (feat. Cardi B)</td>\n",
       "    </tr>\n",
       "    <tr>\n",
       "      <th>12</th>\n",
       "      <td>Maroon 5</td>\n",
       "      <td>28776</td>\n",
       "      <td>The Middle</td>\n",
       "    </tr>\n",
       "    <tr>\n",
       "      <th>13</th>\n",
       "      <td>Travis Scott</td>\n",
       "      <td>27799</td>\n",
       "      <td>Believer</td>\n",
       "    </tr>\n",
       "    <tr>\n",
       "      <th>14</th>\n",
       "      <td>Shawn Mendes</td>\n",
       "      <td>27320</td>\n",
       "      <td>Youngblood</td>\n",
       "    </tr>\n",
       "    <tr>\n",
       "      <th>15</th>\n",
       "      <td>Bad Bunny</td>\n",
       "      <td>26741</td>\n",
       "      <td>In My Mind</td>\n",
       "    </tr>\n",
       "    <tr>\n",
       "      <th>16</th>\n",
       "      <td>Avicii</td>\n",
       "      <td>26257</td>\n",
       "      <td>Thunder</td>\n",
       "    </tr>\n",
       "    <tr>\n",
       "      <th>17</th>\n",
       "      <td>Queen</td>\n",
       "      <td>25655</td>\n",
       "      <td>Better Now</td>\n",
       "    </tr>\n",
       "    <tr>\n",
       "      <th>18</th>\n",
       "      <td>Maluma</td>\n",
       "      <td>24700</td>\n",
       "      <td>Solo (feat. Demi Lovato)</td>\n",
       "    </tr>\n",
       "    <tr>\n",
       "      <th>19</th>\n",
       "      <td>Bazzi</td>\n",
       "      <td>22283</td>\n",
       "      <td>no tears left to cry</td>\n",
       "    </tr>\n",
       "    <tr>\n",
       "      <th>20</th>\n",
       "      <td>Billie Eilish</td>\n",
       "      <td>22106</td>\n",
       "      <td>Psycho (feat. Ty Dolla $ign)</td>\n",
       "    </tr>\n",
       "    <tr>\n",
       "      <th>21</th>\n",
       "      <td>Kendrick Lamar</td>\n",
       "      <td>21953</td>\n",
       "      <td>Lucid Dreams</td>\n",
       "    </tr>\n",
       "  </tbody>\n",
       "</table>\n",
       "</div>"
      ],
      "text/plain": [
       "             Artist  Artist_counts                           Title\n",
       "0      XXXTENTACION          79112                      God's Plan\n",
       "1        Ed Sheeran          75963                           IDGAF\n",
       "2       Post Malone          69991                    Shape of You\n",
       "3             Drake          66881                         FRIENDS\n",
       "4   Imagine Dragons          52748                       New Rules\n",
       "5     Ariana Grande          41582                         Perfect\n",
       "6          Dua Lipa          39599                         Happier\n",
       "7            Eminem          33243       Havana (feat. Young Thug)\n",
       "8    Camila Cabello          32789                       I Like It\n",
       "9             Ozuna          31328        One Kiss (with Dua Lipa)\n",
       "10           Khalid          30955                            SAD!\n",
       "11     Clean Bandit          29127  Girls Like You (feat. Cardi B)\n",
       "12         Maroon 5          28776                      The Middle\n",
       "13     Travis Scott          27799                        Believer\n",
       "14     Shawn Mendes          27320                      Youngblood\n",
       "15        Bad Bunny          26741                      In My Mind\n",
       "16           Avicii          26257                         Thunder\n",
       "17            Queen          25655                      Better Now\n",
       "18           Maluma          24700        Solo (feat. Demi Lovato)\n",
       "19            Bazzi          22283            no tears left to cry\n",
       "20    Billie Eilish          22106    Psycho (feat. Ty Dolla $ign)\n",
       "21   Kendrick Lamar          21953                    Lucid Dreams"
      ]
     },
     "execution_count": 10,
     "metadata": {},
     "output_type": "execute_result"
    }
   ],
   "source": [
    "df3 = pd.read_csv('top_chart_2018.csv', index_col=False)\n",
    "df3 = df3.loc[:, [\"Artist\", \"Artist_counts\", \"Title\"]]\n",
    "df3"
   ]
  },
  {
   "cell_type": "code",
   "execution_count": 36,
   "metadata": {},
   "outputs": [
    {
     "data": {
      "text/plain": [
       "<AxesSubplot: xlabel='Artist_counts', ylabel='Artist'>"
      ]
     },
     "execution_count": 36,
     "metadata": {},
     "output_type": "execute_result"
    },
    {
     "data": {
      "image/png": "[encoded data removed]",
      "text/plain": [
       "<Figure size 640x480 with 1 Axes>"
      ]
     },
     "metadata": {},
     "output_type": "display_data"
    }
   ],
   "source": [
    "sns.barplot(data=df3, x=\"Artist_counts\", y = \"Artist\")"
   ]
  },
  {
   "cell_type": "markdown",
   "metadata": {},
   "source": [
    "Creating set of 22 most popular singers in 2018"
   ]
  },
  {
   "cell_type": "code",
   "execution_count": 12,
   "metadata": {},
   "outputs": [],
   "source": [
    "set3 = set(df3[\"Artist\"])"
   ]
  },
  {
   "cell_type": "markdown",
   "metadata": {},
   "source": [
    "<font color='FF FF E0'>\n",
    "<font size = '6'>\n",
    "2019</font>"
   ]
  },
  {
   "cell_type": "markdown",
   "metadata": {},
   "source": [
    "Reading file with data from 2019. Creating top 22 singers in 2019"
   ]
  },
  {
   "cell_type": "code",
   "execution_count": 19,
   "metadata": {},
   "outputs": [
    {
     "data": {
      "text/html": [
       "<div>\n",
       "<style scoped>\n",
       "    .dataframe tbody tr th:only-of-type {\n",
       "        vertical-align: middle;\n",
       "    }\n",
       "\n",
       "    .dataframe tbody tr th {\n",
       "        vertical-align: top;\n",
       "    }\n",
       "\n",
       "    .dataframe thead th {\n",
       "        text-align: right;\n",
       "    }\n",
       "</style>\n",
       "<table border=\"1\" class=\"dataframe\">\n",
       "  <thead>\n",
       "    <tr style=\"text-align: right;\">\n",
       "      <th></th>\n",
       "      <th>Artist</th>\n",
       "      <th>Artist_counts</th>\n",
       "      <th>Title</th>\n",
       "    </tr>\n",
       "  </thead>\n",
       "  <tbody>\n",
       "    <tr>\n",
       "      <th>0</th>\n",
       "      <td>Billie Eilish</td>\n",
       "      <td>109029</td>\n",
       "      <td>bad guy</td>\n",
       "    </tr>\n",
       "    <tr>\n",
       "      <th>1</th>\n",
       "      <td>Ed Sheeran</td>\n",
       "      <td>88439</td>\n",
       "      <td>Shallow</td>\n",
       "    </tr>\n",
       "    <tr>\n",
       "      <th>2</th>\n",
       "      <td>Post Malone</td>\n",
       "      <td>82768</td>\n",
       "      <td>Sunflower - Spider-Man: Into the Spider-Verse</td>\n",
       "    </tr>\n",
       "    <tr>\n",
       "      <th>3</th>\n",
       "      <td>Ariana Grande</td>\n",
       "      <td>75525</td>\n",
       "      <td>Happier</td>\n",
       "    </tr>\n",
       "    <tr>\n",
       "      <th>4</th>\n",
       "      <td>Bad Bunny</td>\n",
       "      <td>40389</td>\n",
       "      <td>7 rings</td>\n",
       "    </tr>\n",
       "    <tr>\n",
       "      <th>5</th>\n",
       "      <td>Sam Smith</td>\n",
       "      <td>39581</td>\n",
       "      <td>Someone You Loved</td>\n",
       "    </tr>\n",
       "    <tr>\n",
       "      <th>6</th>\n",
       "      <td>Queen</td>\n",
       "      <td>36758</td>\n",
       "      <td>Dance Monkey</td>\n",
       "    </tr>\n",
       "    <tr>\n",
       "      <th>7</th>\n",
       "      <td>Paulo Londra</td>\n",
       "      <td>35656</td>\n",
       "      <td>Señorita</td>\n",
       "    </tr>\n",
       "    <tr>\n",
       "      <th>8</th>\n",
       "      <td>Lil Nas X</td>\n",
       "      <td>32991</td>\n",
       "      <td>Con Calma</td>\n",
       "    </tr>\n",
       "    <tr>\n",
       "      <th>9</th>\n",
       "      <td>Khalid</td>\n",
       "      <td>32541</td>\n",
       "      <td>Without Me</td>\n",
       "    </tr>\n",
       "    <tr>\n",
       "      <th>10</th>\n",
       "      <td>Imagine Dragons</td>\n",
       "      <td>31574</td>\n",
       "      <td>I Don't Care (with Justin Bieber)</td>\n",
       "    </tr>\n",
       "    <tr>\n",
       "      <th>11</th>\n",
       "      <td>Lewis Capaldi</td>\n",
       "      <td>29403</td>\n",
       "      <td>Dancing With A Stranger (with Normani)</td>\n",
       "    </tr>\n",
       "    <tr>\n",
       "      <th>12</th>\n",
       "      <td>Taylor Swift</td>\n",
       "      <td>27998</td>\n",
       "      <td>Wow.</td>\n",
       "    </tr>\n",
       "    <tr>\n",
       "      <th>13</th>\n",
       "      <td>XXXTENTACION</td>\n",
       "      <td>25557</td>\n",
       "      <td>Sweet but Psycho</td>\n",
       "    </tr>\n",
       "    <tr>\n",
       "      <th>14</th>\n",
       "      <td>Ava Max</td>\n",
       "      <td>25499</td>\n",
       "      <td>Sucker</td>\n",
       "    </tr>\n",
       "    <tr>\n",
       "      <th>15</th>\n",
       "      <td>Maroon 5</td>\n",
       "      <td>24386</td>\n",
       "      <td>Lalala</td>\n",
       "    </tr>\n",
       "    <tr>\n",
       "      <th>16</th>\n",
       "      <td>Shawn Mendes</td>\n",
       "      <td>24018</td>\n",
       "      <td>when the party's over</td>\n",
       "    </tr>\n",
       "    <tr>\n",
       "      <th>17</th>\n",
       "      <td>Juice WRLD</td>\n",
       "      <td>23745</td>\n",
       "      <td>Let Me Down Slowly</td>\n",
       "    </tr>\n",
       "    <tr>\n",
       "      <th>18</th>\n",
       "      <td>Jonas Brothers</td>\n",
       "      <td>23158</td>\n",
       "      <td>Bohemian Rhapsody - Remastered 2011</td>\n",
       "    </tr>\n",
       "    <tr>\n",
       "      <th>19</th>\n",
       "      <td>Halsey</td>\n",
       "      <td>22895</td>\n",
       "      <td>thank u, next</td>\n",
       "    </tr>\n",
       "    <tr>\n",
       "      <th>20</th>\n",
       "      <td>Lady Gaga, Bradley Cooper</td>\n",
       "      <td>22778</td>\n",
       "      <td>Shape of You</td>\n",
       "    </tr>\n",
       "    <tr>\n",
       "      <th>21</th>\n",
       "      <td>Ozuna</td>\n",
       "      <td>21748</td>\n",
       "      <td>Calma - Remix</td>\n",
       "    </tr>\n",
       "  </tbody>\n",
       "</table>\n",
       "</div>"
      ],
      "text/plain": [
       "                       Artist  Artist_counts  \\\n",
       "0               Billie Eilish         109029   \n",
       "1                  Ed Sheeran          88439   \n",
       "2                 Post Malone          82768   \n",
       "3               Ariana Grande          75525   \n",
       "4                   Bad Bunny          40389   \n",
       "5                   Sam Smith          39581   \n",
       "6                       Queen          36758   \n",
       "7                Paulo Londra          35656   \n",
       "8                   Lil Nas X          32991   \n",
       "9                      Khalid          32541   \n",
       "10            Imagine Dragons          31574   \n",
       "11              Lewis Capaldi          29403   \n",
       "12               Taylor Swift          27998   \n",
       "13               XXXTENTACION          25557   \n",
       "14                    Ava Max          25499   \n",
       "15                   Maroon 5          24386   \n",
       "16               Shawn Mendes          24018   \n",
       "17                 Juice WRLD          23745   \n",
       "18             Jonas Brothers          23158   \n",
       "19                     Halsey          22895   \n",
       "20  Lady Gaga, Bradley Cooper          22778   \n",
       "21                      Ozuna          21748   \n",
       "\n",
       "                                            Title  \n",
       "0                                         bad guy  \n",
       "1                                         Shallow  \n",
       "2   Sunflower - Spider-Man: Into the Spider-Verse  \n",
       "3                                         Happier  \n",
       "4                                         7 rings  \n",
       "5                               Someone You Loved  \n",
       "6                                    Dance Monkey  \n",
       "7                                        Señorita  \n",
       "8                                       Con Calma  \n",
       "9                                      Without Me  \n",
       "10              I Don't Care (with Justin Bieber)  \n",
       "11         Dancing With A Stranger (with Normani)  \n",
       "12                                           Wow.  \n",
       "13                               Sweet but Psycho  \n",
       "14                                         Sucker  \n",
       "15                                         Lalala  \n",
       "16                          when the party's over  \n",
       "17                             Let Me Down Slowly  \n",
       "18            Bohemian Rhapsody - Remastered 2011  \n",
       "19                                  thank u, next  \n",
       "20                                   Shape of You  \n",
       "21                                  Calma - Remix  "
      ]
     },
     "execution_count": 19,
     "metadata": {},
     "output_type": "execute_result"
    }
   ],
   "source": [
    "df4 = pd.read_csv('top_chart_2019.csv', index_col=False)\n",
    "df4 = df4.loc[:, [\"Artist\", \"Artist_counts\", \"Title\"]]\n",
    "df4"
   ]
  },
  {
   "cell_type": "code",
   "execution_count": 35,
   "metadata": {},
   "outputs": [
    {
     "data": {
      "text/plain": [
       "<AxesSubplot: xlabel='Artist_counts', ylabel='Artist'>"
      ]
     },
     "execution_count": 35,
     "metadata": {},
     "output_type": "execute_result"
    },
    {
     "data": {
      "image/png": "[encoded data removed]",
      "text/plain": [
       "<Figure size 640x480 with 1 Axes>"
      ]
     },
     "metadata": {},
     "output_type": "display_data"
    }
   ],
   "source": [
    "sns.barplot(data=df4, x=\"Artist_counts\", y = \"Artist\")"
   ]
  },
  {
   "cell_type": "markdown",
   "metadata": {},
   "source": [
    "Creating set of 22 most popular singers in 2019"
   ]
  },
  {
   "cell_type": "code",
   "execution_count": 21,
   "metadata": {},
   "outputs": [],
   "source": [
    "set4 = set(df4[\"Artist\"])"
   ]
  },
  {
   "cell_type": "markdown",
   "metadata": {},
   "source": [
    "<font color='FF FF E0'>\n",
    "<font size = '6'>\n",
    "2020</font>"
   ]
  },
  {
   "cell_type": "markdown",
   "metadata": {},
   "source": [
    "Reading file with data from 2020. Creating top 22 singers in 2020"
   ]
  },
  {
   "cell_type": "code",
   "execution_count": 32,
   "metadata": {},
   "outputs": [
    {
     "data": {
      "text/html": [
       "<div>\n",
       "<style scoped>\n",
       "    .dataframe tbody tr th:only-of-type {\n",
       "        vertical-align: middle;\n",
       "    }\n",
       "\n",
       "    .dataframe tbody tr th {\n",
       "        vertical-align: top;\n",
       "    }\n",
       "\n",
       "    .dataframe thead th {\n",
       "        text-align: right;\n",
       "    }\n",
       "</style>\n",
       "<table border=\"1\" class=\"dataframe\">\n",
       "  <thead>\n",
       "    <tr style=\"text-align: right;\">\n",
       "      <th></th>\n",
       "      <th>Artist</th>\n",
       "      <th>Artist_counts</th>\n",
       "      <th>Title</th>\n",
       "    </tr>\n",
       "  </thead>\n",
       "  <tbody>\n",
       "    <tr>\n",
       "      <th>0</th>\n",
       "      <td>Billie Eilish</td>\n",
       "      <td>71808</td>\n",
       "      <td>Blinding Lights</td>\n",
       "    </tr>\n",
       "    <tr>\n",
       "      <th>1</th>\n",
       "      <td>Bad Bunny</td>\n",
       "      <td>61931</td>\n",
       "      <td>Falling</td>\n",
       "    </tr>\n",
       "    <tr>\n",
       "      <th>2</th>\n",
       "      <td>Dua Lipa</td>\n",
       "      <td>56677</td>\n",
       "      <td>Roses - Imanbek Remix</td>\n",
       "    </tr>\n",
       "    <tr>\n",
       "      <th>3</th>\n",
       "      <td>Pop Smoke</td>\n",
       "      <td>55968</td>\n",
       "      <td>Dance Monkey</td>\n",
       "    </tr>\n",
       "    <tr>\n",
       "      <th>4</th>\n",
       "      <td>The Weeknd</td>\n",
       "      <td>55919</td>\n",
       "      <td>death bed (coffee for your head)</td>\n",
       "    </tr>\n",
       "    <tr>\n",
       "      <th>5</th>\n",
       "      <td>Juice WRLD</td>\n",
       "      <td>55617</td>\n",
       "      <td>Don't Start Now</td>\n",
       "    </tr>\n",
       "    <tr>\n",
       "      <th>6</th>\n",
       "      <td>Harry Styles</td>\n",
       "      <td>50490</td>\n",
       "      <td>The Box</td>\n",
       "    </tr>\n",
       "    <tr>\n",
       "      <th>7</th>\n",
       "      <td>Travis Scott</td>\n",
       "      <td>47048</td>\n",
       "      <td>Someone You Loved</td>\n",
       "    </tr>\n",
       "    <tr>\n",
       "      <th>8</th>\n",
       "      <td>BTS</td>\n",
       "      <td>45349</td>\n",
       "      <td>Say So</td>\n",
       "    </tr>\n",
       "    <tr>\n",
       "      <th>9</th>\n",
       "      <td>Lewis Capaldi</td>\n",
       "      <td>45205</td>\n",
       "      <td>Watermelon Sugar</td>\n",
       "    </tr>\n",
       "    <tr>\n",
       "      <th>10</th>\n",
       "      <td>Justin Bieber</td>\n",
       "      <td>40859</td>\n",
       "      <td>Señorita</td>\n",
       "    </tr>\n",
       "    <tr>\n",
       "      <th>11</th>\n",
       "      <td>Ed Sheeran</td>\n",
       "      <td>38493</td>\n",
       "      <td>ily (i love you baby) (feat. Emilee)</td>\n",
       "    </tr>\n",
       "    <tr>\n",
       "      <th>12</th>\n",
       "      <td>Ariana Grande</td>\n",
       "      <td>38360</td>\n",
       "      <td>Adore You</td>\n",
       "    </tr>\n",
       "    <tr>\n",
       "      <th>13</th>\n",
       "      <td>Doja Cat</td>\n",
       "      <td>35613</td>\n",
       "      <td>ROCKSTAR (feat. Roddy Ricch)</td>\n",
       "    </tr>\n",
       "    <tr>\n",
       "      <th>14</th>\n",
       "      <td>J Balvin</td>\n",
       "      <td>34217</td>\n",
       "      <td>bad guy</td>\n",
       "    </tr>\n",
       "    <tr>\n",
       "      <th>15</th>\n",
       "      <td>Post Malone</td>\n",
       "      <td>33316</td>\n",
       "      <td>Breaking Me</td>\n",
       "    </tr>\n",
       "    <tr>\n",
       "      <th>16</th>\n",
       "      <td>Tones And I</td>\n",
       "      <td>31640</td>\n",
       "      <td>Memories</td>\n",
       "    </tr>\n",
       "    <tr>\n",
       "      <th>17</th>\n",
       "      <td>Drake</td>\n",
       "      <td>30175</td>\n",
       "      <td>Circles</td>\n",
       "    </tr>\n",
       "    <tr>\n",
       "      <th>18</th>\n",
       "      <td>Roddy Ricch</td>\n",
       "      <td>29362</td>\n",
       "      <td>Blueberry Faygo</td>\n",
       "    </tr>\n",
       "    <tr>\n",
       "      <th>19</th>\n",
       "      <td>DaBaby</td>\n",
       "      <td>28173</td>\n",
       "      <td>ROXANNE</td>\n",
       "    </tr>\n",
       "    <tr>\n",
       "      <th>20</th>\n",
       "      <td>SAINt JHN</td>\n",
       "      <td>27345</td>\n",
       "      <td>everything i wanted</td>\n",
       "    </tr>\n",
       "    <tr>\n",
       "      <th>21</th>\n",
       "      <td>BLACKPINK</td>\n",
       "      <td>27025</td>\n",
       "      <td>Before You Go</td>\n",
       "    </tr>\n",
       "  </tbody>\n",
       "</table>\n",
       "</div>"
      ],
      "text/plain": [
       "           Artist  Artist_counts                                 Title\n",
       "0   Billie Eilish          71808                       Blinding Lights\n",
       "1       Bad Bunny          61931                               Falling\n",
       "2        Dua Lipa          56677                 Roses - Imanbek Remix\n",
       "3       Pop Smoke          55968                          Dance Monkey\n",
       "4      The Weeknd          55919      death bed (coffee for your head)\n",
       "5      Juice WRLD          55617                       Don't Start Now\n",
       "6    Harry Styles          50490                               The Box\n",
       "7    Travis Scott          47048                     Someone You Loved\n",
       "8             BTS          45349                                Say So\n",
       "9   Lewis Capaldi          45205                      Watermelon Sugar\n",
       "10  Justin Bieber          40859                              Señorita\n",
       "11     Ed Sheeran          38493  ily (i love you baby) (feat. Emilee)\n",
       "12  Ariana Grande          38360                             Adore You\n",
       "13       Doja Cat          35613          ROCKSTAR (feat. Roddy Ricch)\n",
       "14       J Balvin          34217                               bad guy\n",
       "15    Post Malone          33316                           Breaking Me\n",
       "16    Tones And I          31640                              Memories\n",
       "17          Drake          30175                               Circles\n",
       "18    Roddy Ricch          29362                       Blueberry Faygo\n",
       "19         DaBaby          28173                               ROXANNE\n",
       "20      SAINt JHN          27345                   everything i wanted\n",
       "21      BLACKPINK          27025                         Before You Go"
      ]
     },
     "execution_count": 32,
     "metadata": {},
     "output_type": "execute_result"
    }
   ],
   "source": [
    "df5 = pd.read_csv('top_chart_2020.csv', index_col=False)\n",
    "df5 = df5.loc[:, [\"Artist\", \"Artist_counts\", \"Title\"]]\n",
    "df5"
   ]
  },
  {
   "cell_type": "code",
   "execution_count": 34,
   "metadata": {},
   "outputs": [
    {
     "data": {
      "text/plain": [
       "<AxesSubplot: xlabel='Artist_counts', ylabel='Artist'>"
      ]
     },
     "execution_count": 34,
     "metadata": {},
     "output_type": "execute_result"
    },
    {
     "data": {
      "image/png": "[encoded data removed]",
      "text/plain": [
       "<Figure size 640x480 with 1 Axes>"
      ]
     },
     "metadata": {},
     "output_type": "display_data"
    }
   ],
   "source": [
    "sns.barplot(data=df5, x=\"Artist_counts\", y = \"Artist\")"
   ]
  },
  {
   "cell_type": "markdown",
   "metadata": {},
   "source": [
    "Creating set of 22 most popular singers in 2020"
   ]
  },
  {
   "cell_type": "code",
   "execution_count": 24,
   "metadata": {},
   "outputs": [],
   "source": [
    "set5 = set(df5[\"Artist\"])"
   ]
  },
  {
   "cell_type": "markdown",
   "metadata": {},
   "source": [
    "<font color='FF FF E0'>\n",
    "<font size = '6'>\n",
    "2021</font>"
   ]
  },
  {
   "cell_type": "markdown",
   "metadata": {},
   "source": [
    "Reading file with data from 2021. Creating top 22 singers in 2021"
   ]
  },
  {
   "cell_type": "code",
   "execution_count": 25,
   "metadata": {},
   "outputs": [
    {
     "data": {
      "text/html": [
       "<div>\n",
       "<style scoped>\n",
       "    .dataframe tbody tr th:only-of-type {\n",
       "        vertical-align: middle;\n",
       "    }\n",
       "\n",
       "    .dataframe tbody tr th {\n",
       "        vertical-align: top;\n",
       "    }\n",
       "\n",
       "    .dataframe thead th {\n",
       "        text-align: right;\n",
       "    }\n",
       "</style>\n",
       "<table border=\"1\" class=\"dataframe\">\n",
       "  <thead>\n",
       "    <tr style=\"text-align: right;\">\n",
       "      <th></th>\n",
       "      <th>Artist</th>\n",
       "      <th>Artist_counts</th>\n",
       "      <th>Title</th>\n",
       "    </tr>\n",
       "  </thead>\n",
       "  <tbody>\n",
       "    <tr>\n",
       "      <th>0</th>\n",
       "      <td>Olivia Rodrigo</td>\n",
       "      <td>93047</td>\n",
       "      <td>Astronaut In The Ocean</td>\n",
       "    </tr>\n",
       "    <tr>\n",
       "      <th>1</th>\n",
       "      <td>The Weeknd</td>\n",
       "      <td>68355</td>\n",
       "      <td>drivers license</td>\n",
       "    </tr>\n",
       "    <tr>\n",
       "      <th>2</th>\n",
       "      <td>Doja Cat</td>\n",
       "      <td>63983</td>\n",
       "      <td>Blinding Lights</td>\n",
       "    </tr>\n",
       "    <tr>\n",
       "      <th>3</th>\n",
       "      <td>Måneskin</td>\n",
       "      <td>60846</td>\n",
       "      <td>Levitating (feat. DaBaby)</td>\n",
       "    </tr>\n",
       "    <tr>\n",
       "      <th>4</th>\n",
       "      <td>Bad Bunny</td>\n",
       "      <td>59926</td>\n",
       "      <td>Save Your Tears</td>\n",
       "    </tr>\n",
       "    <tr>\n",
       "      <th>5</th>\n",
       "      <td>Justin Bieber</td>\n",
       "      <td>56579</td>\n",
       "      <td>MONTERO (Call Me By Your Name)</td>\n",
       "    </tr>\n",
       "    <tr>\n",
       "      <th>6</th>\n",
       "      <td>Dua Lipa</td>\n",
       "      <td>55271</td>\n",
       "      <td>Kiss Me More (feat. SZA)</td>\n",
       "    </tr>\n",
       "    <tr>\n",
       "      <th>7</th>\n",
       "      <td>BTS</td>\n",
       "      <td>54157</td>\n",
       "      <td>Watermelon Sugar</td>\n",
       "    </tr>\n",
       "    <tr>\n",
       "      <th>8</th>\n",
       "      <td>Billie Eilish</td>\n",
       "      <td>48633</td>\n",
       "      <td>Peaches (feat. Daniel Caesar &amp; Giveon)</td>\n",
       "    </tr>\n",
       "    <tr>\n",
       "      <th>9</th>\n",
       "      <td>Ed Sheeran</td>\n",
       "      <td>46742</td>\n",
       "      <td>Beggin'</td>\n",
       "    </tr>\n",
       "    <tr>\n",
       "      <th>10</th>\n",
       "      <td>Lil Nas X</td>\n",
       "      <td>45129</td>\n",
       "      <td>Leave The Door Open</td>\n",
       "    </tr>\n",
       "    <tr>\n",
       "      <th>11</th>\n",
       "      <td>Pop Smoke</td>\n",
       "      <td>33307</td>\n",
       "      <td>Mood (feat. iann dior)</td>\n",
       "    </tr>\n",
       "    <tr>\n",
       "      <th>12</th>\n",
       "      <td>The Kid LAROI</td>\n",
       "      <td>32096</td>\n",
       "      <td>Friday (feat. Mufasa &amp; Hypeman) - Dopamine Re-...</td>\n",
       "    </tr>\n",
       "    <tr>\n",
       "      <th>13</th>\n",
       "      <td>Harry Styles</td>\n",
       "      <td>29913</td>\n",
       "      <td>Heat Waves</td>\n",
       "    </tr>\n",
       "    <tr>\n",
       "      <th>14</th>\n",
       "      <td>Drake</td>\n",
       "      <td>29836</td>\n",
       "      <td>good 4 u</td>\n",
       "    </tr>\n",
       "    <tr>\n",
       "      <th>15</th>\n",
       "      <td>Ariana Grande</td>\n",
       "      <td>29561</td>\n",
       "      <td>Arcade</td>\n",
       "    </tr>\n",
       "    <tr>\n",
       "      <th>16</th>\n",
       "      <td>Rauw Alejandro</td>\n",
       "      <td>27770</td>\n",
       "      <td>Don't Start Now</td>\n",
       "    </tr>\n",
       "    <tr>\n",
       "      <th>17</th>\n",
       "      <td>Lewis Capaldi</td>\n",
       "      <td>25252</td>\n",
       "      <td>telepatía</td>\n",
       "    </tr>\n",
       "    <tr>\n",
       "      <th>18</th>\n",
       "      <td>Masked Wolf</td>\n",
       "      <td>23930</td>\n",
       "      <td>Dynamite</td>\n",
       "    </tr>\n",
       "    <tr>\n",
       "      <th>19</th>\n",
       "      <td>Juice WRLD</td>\n",
       "      <td>22384</td>\n",
       "      <td>Someone You Loved</td>\n",
       "    </tr>\n",
       "    <tr>\n",
       "      <th>20</th>\n",
       "      <td>Taylor Swift</td>\n",
       "      <td>21175</td>\n",
       "      <td>The Business</td>\n",
       "    </tr>\n",
       "    <tr>\n",
       "      <th>21</th>\n",
       "      <td>Adele</td>\n",
       "      <td>20157</td>\n",
       "      <td>Save Your Tears (with Ariana Grande) (Remix)</td>\n",
       "    </tr>\n",
       "  </tbody>\n",
       "</table>\n",
       "</div>"
      ],
      "text/plain": [
       "            Artist  Artist_counts  \\\n",
       "0   Olivia Rodrigo          93047   \n",
       "1       The Weeknd          68355   \n",
       "2         Doja Cat          63983   \n",
       "3         Måneskin          60846   \n",
       "4        Bad Bunny          59926   \n",
       "5    Justin Bieber          56579   \n",
       "6         Dua Lipa          55271   \n",
       "7              BTS          54157   \n",
       "8    Billie Eilish          48633   \n",
       "9       Ed Sheeran          46742   \n",
       "10       Lil Nas X          45129   \n",
       "11       Pop Smoke          33307   \n",
       "12   The Kid LAROI          32096   \n",
       "13    Harry Styles          29913   \n",
       "14           Drake          29836   \n",
       "15   Ariana Grande          29561   \n",
       "16  Rauw Alejandro          27770   \n",
       "17   Lewis Capaldi          25252   \n",
       "18     Masked Wolf          23930   \n",
       "19      Juice WRLD          22384   \n",
       "20    Taylor Swift          21175   \n",
       "21           Adele          20157   \n",
       "\n",
       "                                                Title  \n",
       "0                              Astronaut In The Ocean  \n",
       "1                                     drivers license  \n",
       "2                                     Blinding Lights  \n",
       "3                           Levitating (feat. DaBaby)  \n",
       "4                                     Save Your Tears  \n",
       "5                      MONTERO (Call Me By Your Name)  \n",
       "6                            Kiss Me More (feat. SZA)  \n",
       "7                                    Watermelon Sugar  \n",
       "8              Peaches (feat. Daniel Caesar & Giveon)  \n",
       "9                                             Beggin'  \n",
       "10                                Leave The Door Open  \n",
       "11                             Mood (feat. iann dior)  \n",
       "12  Friday (feat. Mufasa & Hypeman) - Dopamine Re-...  \n",
       "13                                         Heat Waves  \n",
       "14                                           good 4 u  \n",
       "15                                             Arcade  \n",
       "16                                    Don't Start Now  \n",
       "17                                          telepatía  \n",
       "18                                           Dynamite  \n",
       "19                                  Someone You Loved  \n",
       "20                                       The Business  \n",
       "21       Save Your Tears (with Ariana Grande) (Remix)  "
      ]
     },
     "execution_count": 25,
     "metadata": {},
     "output_type": "execute_result"
    }
   ],
   "source": [
    "df6 = pd.read_csv('top_chart_2021.csv', index_col=False)\n",
    "df6 = df6.loc[:, [\"Artist\", \"Artist_counts\", \"Title\"]]\n",
    "df6"
   ]
  },
  {
   "cell_type": "code",
   "execution_count": 28,
   "metadata": {},
   "outputs": [
    {
     "data": {
      "text/plain": [
       "<AxesSubplot: xlabel='Artist_counts', ylabel='Artist'>"
      ]
     },
     "execution_count": 28,
     "metadata": {},
     "output_type": "execute_result"
    },
    {
     "data": {
      "image/png": "[encoded data removed]",
      "text/plain": [
       "<Figure size 640x480 with 1 Axes>"
      ]
     },
     "metadata": {},
     "output_type": "display_data"
    }
   ],
   "source": [
    "sns.barplot(data=df6, x=\"Artist_counts\", y = \"Artist\")"
   ]
  },
  {
   "cell_type": "markdown",
   "metadata": {},
   "source": [
    "Creating set of 22 most popular singers in 2021"
   ]
  },
  {
   "cell_type": "code",
   "execution_count": 26,
   "metadata": {},
   "outputs": [],
   "source": [
    "set6 = set(df6[\"Artist\"])"
   ]
  },
  {
   "cell_type": "markdown",
   "metadata": {},
   "source": [
    "<font color='FF FF E0'>\n",
    "<font size='6'>\n",
    "Prediction for 2022</font>"
   ]
  },
  {
   "cell_type": "markdown",
   "metadata": {},
   "source": [
    "Comparing sets of singers in 2020 and 2021 to predict the next year`s top chart"
   ]
  },
  {
   "cell_type": "code",
   "execution_count": 59,
   "metadata": {},
   "outputs": [
    {
     "data": {
      "text/plain": [
       "{'Ariana Grande',\n",
       " 'BTS',\n",
       " 'Bad Bunny',\n",
       " 'Billie Eilish',\n",
       " 'Doja Cat',\n",
       " 'Drake',\n",
       " 'Dua Lipa',\n",
       " 'Ed Sheeran',\n",
       " 'Harry Styles',\n",
       " 'Juice WRLD',\n",
       " 'Justin Bieber',\n",
       " 'Lewis Capaldi',\n",
       " 'Pop Smoke',\n",
       " 'The Weeknd'}"
      ]
     },
     "execution_count": 59,
     "metadata": {},
     "output_type": "execute_result"
    }
   ],
   "source": [
    "set5 & set6"
   ]
  },
  {
   "cell_type": "markdown",
   "metadata": {},
   "source": [
    "Finding whether any artists stayed in top for 5 years in a row"
   ]
  },
  {
   "cell_type": "code",
   "execution_count": 60,
   "metadata": {},
   "outputs": [
    {
     "data": {
      "text/plain": [
       "{'Ed Sheeran'}"
      ]
     },
     "execution_count": 60,
     "metadata": {},
     "output_type": "execute_result"
    }
   ],
   "source": [
    "set2 & set3 & set4 & set5 & set6"
   ]
  },
  {
   "cell_type": "markdown",
   "metadata": {},
   "source": [
    "<font color='FF FF E0'>\n",
    "<font size='6'>\n",
    "How many singers actually stayed in top charts in 2020, 2021, 2022</font>"
   ]
  },
  {
   "cell_type": "code",
   "execution_count": 61,
   "metadata": {},
   "outputs": [
    {
     "data": {
      "text/plain": [
       "{'Doja Cat', 'Ed Sheeran', 'Justin Bieber'}"
      ]
     },
     "execution_count": 61,
     "metadata": {},
     "output_type": "execute_result"
    }
   ],
   "source": [
    "set1 & set5 & set6"
   ]
  },
  {
   "cell_type": "markdown",
   "metadata": {},
   "source": [
    "<font color='#00FF00'>\n",
    "<font size = '6'>\n",
    "Conclusion</font>"
   ]
  },
  {
   "cell_type": "markdown",
   "metadata": {},
   "source": [
    "20% of our prediction for top singers in 2022 are true. Only 1 singer stayed in top charts for 5 years straight - Ed Sheeran.\n",
    "In conclusion, new singers HAVE a great possibility to enter top charts. Dataframe analitics shows that only 14% of singers hold their places untill 2020, so new ones can easily enter the music market. Such an example is Olivia Rodrigo. She was the first in top charts in 2021 despite the fact that we did not see her in charts before."
   ]
  }
 ],
 "metadata": {
  "kernelspec": {
   "display_name": "Python 3.10.7 64-bit",
   "language": "python",
   "name": "python3"
  },
  "language_info": {
   "codemirror_mode": {
    "name": "ipython",
    "version": 3
   },
   "file_extension": ".py",
   "mimetype": "text/x-python",
   "name": "python",
   "nbconvert_exporter": "python",
   "pygments_lexer": "ipython3",
   "version": "3.10.7"
  },
  "orig_nbformat": 4,
  "vscode": {
   "interpreter": {
    "hash": "0923d568c5c980066f6d9c0ec5d6f77400d821ffe369a07e88b2be7a119439f1"
   }
  }
 },
 "nbformat": 4,
 "nbformat_minor": 2
}
